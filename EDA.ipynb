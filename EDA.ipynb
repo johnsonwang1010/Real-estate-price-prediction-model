{
 "cells": [
  {
   "cell_type": "code",
   "execution_count": 1,
   "id": "cdf72caf",
   "metadata": {},
   "outputs": [
    {
     "data": {
      "text/plain": [
       "'6.15.2'"
      ]
     },
     "execution_count": 1,
     "metadata": {},
     "output_type": "execute_result"
    }
   ],
   "source": [
    "import ipykernel\n",
    "ipykernel.__version__"
   ]
  },
  {
   "cell_type": "code",
   "execution_count": null,
   "id": "3ff21ead",
   "metadata": {
    "scrolled": true
   },
   "outputs": [
    {
     "name": "stdout",
     "output_type": "stream",
     "text": [
      "Collecting numpy==1.23.1\n",
      "  Downloading numpy-1.23.1-cp39-cp39-macosx_10_9_x86_64.whl (18.1 MB)\n",
      "\u001b[2K     \u001b[90m━━━━━━━━━━━━━━━━━━━━━━━━━━━━━━━━━━━━━━━━\u001b[0m \u001b[32m18.1/18.1 MB\u001b[0m \u001b[31m16.9 MB/s\u001b[0m eta \u001b[36m0:00:00\u001b[0m00:01\u001b[0m00:01\u001b[0m\n",
      "\u001b[?25hInstalling collected packages: numpy\n",
      "  Attempting uninstall: numpy\n",
      "    Found existing installation: numpy 1.21.5\n",
      "    Uninstalling numpy-1.21.5:\n",
      "      Successfully uninstalled numpy-1.21.5\n",
      "\u001b[31mERROR: pip's dependency resolver does not currently take into account all the packages that are installed. This behaviour is the source of the following dependency conflicts.\n",
      "daal4py 2021.6.0 requires daal==2021.4.0, which is not installed.\n",
      "numba 0.55.1 requires numpy<1.22,>=1.18, but you have numpy 1.23.1 which is incompatible.\u001b[0m\u001b[31m\n",
      "\u001b[0mSuccessfully installed numpy-1.23.1\n",
      "Collecting pandas==1.4.3\n",
      "  Downloading pandas-1.4.3-cp39-cp39-macosx_10_9_x86_64.whl (11.5 MB)\n",
      "\u001b[2K     \u001b[90m━━━━━━━━━━━━━━━━━━━━━━━━━━━━━━━━━━━━━━━━\u001b[0m \u001b[32m11.5/11.5 MB\u001b[0m \u001b[31m5.5 MB/s\u001b[0m eta \u001b[36m0:00:00\u001b[0m00:01\u001b[0m00:01\u001b[0m\n",
      "\u001b[?25hRequirement already satisfied: pytz>=2020.1 in /Users/johnson/opt/anaconda3/lib/python3.9/site-packages (from pandas==1.4.3) (2022.1)\n",
      "Requirement already satisfied: python-dateutil>=2.8.1 in /Users/johnson/opt/anaconda3/lib/python3.9/site-packages (from pandas==1.4.3) (2.8.2)\n",
      "Requirement already satisfied: numpy>=1.18.5 in /Users/johnson/opt/anaconda3/lib/python3.9/site-packages (from pandas==1.4.3) (1.23.1)\n",
      "Requirement already satisfied: six>=1.5 in /Users/johnson/opt/anaconda3/lib/python3.9/site-packages (from python-dateutil>=2.8.1->pandas==1.4.3) (1.16.0)\n",
      "Installing collected packages: pandas\n",
      "  Attempting uninstall: pandas\n",
      "    Found existing installation: pandas 1.4.4\n",
      "    Uninstalling pandas-1.4.4:\n",
      "      Successfully uninstalled pandas-1.4.4\n",
      "Successfully installed pandas-1.4.3\n",
      "Collecting matplotlib==3.3.2\n",
      "  Using cached matplotlib-3.3.2.tar.gz (37.9 MB)\n",
      "  Preparing metadata (setup.py) ... \u001b[?25ldone\n",
      "\u001b[?25hRequirement already satisfied: certifi>=2020.06.20 in /Users/johnson/opt/anaconda3/lib/python3.9/site-packages (from matplotlib==3.3.2) (2022.9.24)\n",
      "Requirement already satisfied: cycler>=0.10 in /Users/johnson/opt/anaconda3/lib/python3.9/site-packages (from matplotlib==3.3.2) (0.11.0)\n",
      "Requirement already satisfied: kiwisolver>=1.0.1 in /Users/johnson/opt/anaconda3/lib/python3.9/site-packages (from matplotlib==3.3.2) (1.4.2)\n",
      "Requirement already satisfied: numpy>=1.15 in /Users/johnson/opt/anaconda3/lib/python3.9/site-packages (from matplotlib==3.3.2) (1.23.1)\n",
      "Requirement already satisfied: pillow>=6.2.0 in /Users/johnson/opt/anaconda3/lib/python3.9/site-packages (from matplotlib==3.3.2) (9.2.0)\n",
      "Requirement already satisfied: pyparsing!=2.0.4,!=2.1.2,!=2.1.6,>=2.0.3 in /Users/johnson/opt/anaconda3/lib/python3.9/site-packages (from matplotlib==3.3.2) (3.0.9)\n",
      "Requirement already satisfied: python-dateutil>=2.1 in /Users/johnson/opt/anaconda3/lib/python3.9/site-packages (from matplotlib==3.3.2) (2.8.2)\n",
      "Requirement already satisfied: six>=1.5 in /Users/johnson/opt/anaconda3/lib/python3.9/site-packages (from python-dateutil>=2.1->matplotlib==3.3.2) (1.16.0)\n",
      "Building wheels for collected packages: matplotlib\n",
      "  Building wheel for matplotlib (setup.py) ... \u001b[?25l|"
     ]
    }
   ],
   "source": [
    "!pip install numpy==1.23.1\n",
    "!pip install pandas==1.4.3\n",
    "!pip install matplotlib==3.3.2\n",
    "!pip install seaborn==0.11.0"
   ]
  },
  {
   "cell_type": "markdown",
   "id": "41199a2a",
   "metadata": {},
   "source": [
    "# EDA:"
   ]
  },
  {
   "cell_type": "markdown",
   "id": "63da8b49",
   "metadata": {},
   "source": [
    "The first step in any Data Science project is to understand the data that is given to us. There are few standard questions you can ask in order to get the understanding:\n",
    "* What is the size of the dataset?\n",
    "* What is the time range of the data?\n",
    "* What is the meaning of each column and its values in the dataset? (can get this information from Data Dictionary)\n",
    "* What is the distribution and unique values for each column? (univariate analysis)\n",
    "* What is the distribution and unique values for some combinations of columns? (bivariate & multivariate analysis)\n",
    "\n",
    "If you try to answer these questions with the help of data, then you would get a good understanding of the data which can be leveraged in **Feature Engineering** & **Model Building** part of the project."
   ]
  },
  {
   "cell_type": "markdown",
   "id": "ce1244fc",
   "metadata": {},
   "source": [
    "# Contents:"
   ]
  },
  {
   "cell_type": "markdown",
   "id": "24f539fc",
   "metadata": {},
   "source": [
    "I. [Loading the Data:](#Loading-the-Data:)\n",
    "\n",
    "II. [Data Preprocessing:](#Data-Preprocessing:)\n",
    "\n",
    "* [Extracting Location details:](#Extracting-Location-details:)\n",
    "\n",
    "* [Cleaning all the text columns in the data:](#Cleaning-all-the-text-columns-in-the-data:)\n",
    "\n",
    "* [Encoding Binary Features:](#Encoding-Binary-Features:)\n",
    "\n",
    "* [Fixing Numerical Features:](#Fixing-Numerical-Features:)\n",
    "\n",
    "III. [Univariate Analysis:](#Univariate-Analysis:)\n",
    "\n",
    "\n",
    "*  [Distribution of Location and Sub-Area:](#Distribution-of-Location-and-Sub-Area:)\n",
    "\n",
    "* [Distribution of Company and Township:](#Distribution-of-Company-and-Township:)\n",
    "\n",
    "* [Distribution of Property Area and Price:](#Distribution-of-Property-Area-and-Price:)\n",
    "\n",
    "    \n",
    "    \n",
    "IV. [Multivariate Analysis:](#Multivariate-Analysis:)\n",
    "\n",
    "* [How Property area correlates with the price?](#How-Property-area-correlates-with-the-price?)\n",
    "\n",
    "* [How each amenities correlates with the price?](#How-each-amenities-correlates-with-the-price?)\n",
    "\n",
    "* [What are the 3 main amenities that the top 10% priced properties have?](#What-are-the-3-main-amenities-that-the-top-10%-priced-properties-have?)\n",
    "\n",
    "V. [Treating Nulls and saving the data:](#Treating-Nulls-and-saving-the-data:)"
   ]
  },
  {
   "cell_type": "markdown",
   "id": "f6132310",
   "metadata": {},
   "source": [
    "## Loading the Data:"
   ]
  },
  {
   "cell_type": "markdown",
   "id": "de9ed753",
   "metadata": {},
   "source": [
    "([Contents:](#Contents:))"
   ]
  },
  {
   "cell_type": "code",
   "execution_count": null,
   "id": "30625946",
   "metadata": {},
   "outputs": [],
   "source": [
    "import numpy as np\n",
    "import pandas as pd\n",
    "pd.set_option('display.max_rows',None)\n",
    "pd.set_option('display.max_columns',None)\n",
    "\n",
    "import matplotlib.pyplot as plt\n",
    "import seaborn as sns\n",
    "\n",
    "import os\n",
    "import time \n",
    "import re\n",
    "\n",
    "import warnings\n",
    "warnings.filterwarnings('ignore')"
   ]
  },
  {
   "cell_type": "code",
   "execution_count": null,
   "id": "215a8597",
   "metadata": {},
   "outputs": [],
   "source": [
    "# Loading the data\n",
    "data= pd.read_excel('data/Pune Real Estate Data.xlsx')\n",
    "print(data.shape)\n",
    "data.head()"
   ]
  },
  {
   "cell_type": "code",
   "execution_count": null,
   "id": "39f6425c",
   "metadata": {},
   "outputs": [],
   "source": [
    "df = data.copy()"
   ]
  },
  {
   "cell_type": "code",
   "execution_count": null,
   "id": "5357d9e2",
   "metadata": {},
   "outputs": [],
   "source": [
    "df"
   ]
  },
  {
   "cell_type": "markdown",
   "id": "f9c7c65a",
   "metadata": {},
   "source": [
    "## Data Preprocessing:"
   ]
  },
  {
   "cell_type": "markdown",
   "id": "ef78a866",
   "metadata": {},
   "source": [
    "#### Extracting Location details:"
   ]
  },
  {
   "cell_type": "markdown",
   "id": "c5b07ac7",
   "metadata": {},
   "source": [
    "([Contents:](#Contents:))"
   ]
  },
  {
   "cell_type": "code",
   "execution_count": null,
   "id": "bd75d960",
   "metadata": {},
   "outputs": [],
   "source": [
    "df['Location'].apply(lambda x: x.split(',')[2].lower().strip())"
   ]
  },
  {
   "cell_type": "code",
   "execution_count": null,
   "id": "7e451eb6",
   "metadata": {},
   "outputs": [],
   "source": [
    "# Extracting State and Country separately from the Location Column\n",
    "df['City'] = df['Location'].apply(lambda x: x.split(',')[0].lower().strip())\n",
    "df['State'] = df['Location'].apply(lambda x: x.split(',')[1].lower().strip())\n",
    "df['Country'] = df['Location'].apply(lambda x: x.split(',')[2].lower().strip())\n",
    "df.head(3)"
   ]
  },
  {
   "cell_type": "markdown",
   "id": "fc279f72",
   "metadata": {},
   "source": [
    "#### Cleaning all the text columns in the data:"
   ]
  },
  {
   "cell_type": "markdown",
   "id": "bbe3f2ab",
   "metadata": {},
   "source": [
    "([Contents:](#Contents:))"
   ]
  },
  {
   "cell_type": "markdown",
   "id": "d50d8118",
   "metadata": {},
   "source": [
    "##### Property Type:"
   ]
  },
  {
   "cell_type": "code",
   "execution_count": null,
   "id": "4ffbfb06",
   "metadata": {},
   "outputs": [],
   "source": [
    "df['Propert Type'].value_counts()"
   ]
  },
  {
   "cell_type": "code",
   "execution_count": null,
   "id": "32106b22",
   "metadata": {},
   "outputs": [],
   "source": [
    "# Regex to match the numbers and create a separate column\n",
    "numbers = re.compile(r\"[-+]?(\\d*\\.\\d+|\\d+)\") \n",
    "df['Property Type Cleaned'] = df['Propert Type'].apply(lambda x: numbers.findall(x)[0] \n",
    "                                                       if len(numbers.findall(x)) > 0 else 0)"
   ]
  },
  {
   "cell_type": "code",
   "execution_count": null,
   "id": "ae322ba6",
   "metadata": {},
   "outputs": [],
   "source": [
    "df['Property Type Cleaned'].value_counts()"
   ]
  },
  {
   "cell_type": "markdown",
   "id": "8348dc14",
   "metadata": {},
   "source": [
    "##### Sub-Area:"
   ]
  },
  {
   "cell_type": "code",
   "execution_count": null,
   "id": "f97f5d52",
   "metadata": {},
   "outputs": [],
   "source": [
    "df['Sub-Area'].value_counts()"
   ]
  },
  {
   "cell_type": "code",
   "execution_count": null,
   "id": "5d69b3d0",
   "metadata": {},
   "outputs": [],
   "source": [
    "# Number of categories before cleaning\n",
    "len(df['Sub-Area'].value_counts())"
   ]
  },
  {
   "cell_type": "code",
   "execution_count": null,
   "id": "32e6fa32",
   "metadata": {},
   "outputs": [],
   "source": [
    "df['Sub-Area Cleaned'] = df['Sub-Area'].apply(lambda x: x.lower().strip())"
   ]
  },
  {
   "cell_type": "code",
   "execution_count": null,
   "id": "68979d4c",
   "metadata": {},
   "outputs": [],
   "source": [
    "# Number of categories after cleaning\n",
    "len(df['Sub-Area Cleaned'].value_counts())"
   ]
  },
  {
   "cell_type": "markdown",
   "id": "6803653d",
   "metadata": {},
   "source": [
    "##### Company Name:"
   ]
  },
  {
   "cell_type": "code",
   "execution_count": null,
   "id": "43fc35c7",
   "metadata": {},
   "outputs": [],
   "source": [
    "# Number of categories before cleaning\n",
    "len(df['Company Name'].value_counts())"
   ]
  },
  {
   "cell_type": "code",
   "execution_count": null,
   "id": "e4394767",
   "metadata": {},
   "outputs": [],
   "source": [
    "df['Company Name Cleaned'] = df['Company Name'].apply(lambda x: x.lower().strip())"
   ]
  },
  {
   "cell_type": "code",
   "execution_count": null,
   "id": "14f494b1",
   "metadata": {},
   "outputs": [],
   "source": [
    "len(df['Company Name Cleaned'].value_counts())"
   ]
  },
  {
   "cell_type": "markdown",
   "id": "1b83e780",
   "metadata": {},
   "source": [
    "##### TownShip Name/ Society Name:"
   ]
  },
  {
   "cell_type": "code",
   "execution_count": null,
   "id": "ef3b97a9",
   "metadata": {},
   "outputs": [],
   "source": [
    "# Number of categories before cleaning\n",
    "len(df['TownShip Name/ Society Name'].value_counts())"
   ]
  },
  {
   "cell_type": "code",
   "execution_count": null,
   "id": "d8cebad9",
   "metadata": {},
   "outputs": [],
   "source": [
    "df['TownShip Name/ Society Name Cleaned'] = df['TownShip Name/ Society Name'].apply(lambda x: x.lower().strip())"
   ]
  },
  {
   "cell_type": "code",
   "execution_count": null,
   "id": "ef8db132",
   "metadata": {},
   "outputs": [],
   "source": [
    "len(df['TownShip Name/ Society Name Cleaned'].value_counts())"
   ]
  },
  {
   "cell_type": "markdown",
   "id": "89af8872",
   "metadata": {},
   "source": [
    "##### Description:"
   ]
  },
  {
   "cell_type": "code",
   "execution_count": null,
   "id": "2992732d",
   "metadata": {},
   "outputs": [],
   "source": [
    "df['Description Cleaned'] = df['Description'].apply(lambda x: x.lower().strip())"
   ]
  },
  {
   "cell_type": "code",
   "execution_count": null,
   "id": "59763509",
   "metadata": {},
   "outputs": [],
   "source": [
    "df.head(2)"
   ]
  },
  {
   "cell_type": "markdown",
   "id": "dbc8465f",
   "metadata": {},
   "source": [
    "#### Encoding Binary Features:"
   ]
  },
  {
   "cell_type": "markdown",
   "id": "5f27956e",
   "metadata": {},
   "source": [
    "[Contents:](#Contents:)"
   ]
  },
  {
   "cell_type": "code",
   "execution_count": null,
   "id": "af926286",
   "metadata": {},
   "outputs": [],
   "source": [
    "# Cleaning and encoding Binary Features\n",
    "df['ClubHouse Cleaned'] = (df['ClubHouse'].apply(lambda x: x.lower().strip()).map({'yes':1, 'no':0}))\n",
    "df['School / University in Township Cleaned'] = (df['School / University in Township ']\n",
    "                                                     .apply(lambda x: x.lower().strip()).map({'yes':1, 'no':0}))\n",
    "df['Hospital in TownShip Cleaned'] = (df['Hospital in TownShip']\n",
    "                                                     .apply(lambda x: x.lower().strip()).map({'yes':1, 'no':0}))\n",
    "df['Mall in TownShip Cleaned'] = (df['Mall in TownShip']\n",
    "                                                     .apply(lambda x: x.lower().strip()).map({'yes':1, 'no':0}))\n",
    "df['Park / Jogging track Cleaned'] = (df['Park / Jogging track']\n",
    "                                                     .apply(lambda x: x.lower().strip()).map({'yes':1, 'no':0}))\n",
    "df['Swimming Pool Cleaned'] = (df['Swimming Pool']\n",
    "                                                 .apply(lambda x: x.lower().strip()).map({'yes':1, 'no':0}))\n",
    "df['Gym Cleaned'] = (df['Gym']\n",
    "                             .apply(lambda x: x.lower().strip()).map({'yes':1, 'no':0}))"
   ]
  },
  {
   "cell_type": "code",
   "execution_count": null,
   "id": "7acd541c",
   "metadata": {},
   "outputs": [],
   "source": [
    "df.tail()"
   ]
  },
  {
   "cell_type": "markdown",
   "id": "8ecba68e",
   "metadata": {},
   "source": [
    "#### Fixing Numerical Features:"
   ]
  },
  {
   "cell_type": "markdown",
   "id": "c4c63375",
   "metadata": {},
   "source": [
    "[Contents:](#Contents:)"
   ]
  },
  {
   "cell_type": "markdown",
   "id": "b01ccdcf",
   "metadata": {},
   "source": [
    "##### Property Area:"
   ]
  },
  {
   "cell_type": "code",
   "execution_count": null,
   "id": "2045f649",
   "metadata": {},
   "outputs": [],
   "source": [
    "numbers.findall(str(\"shot/tea\"))"
   ]
  },
  {
   "cell_type": "code",
   "execution_count": null,
   "id": "9f5f125f",
   "metadata": {},
   "outputs": [],
   "source": [
    "numbers.findall(str(\"500/1000\"))"
   ]
  },
  {
   "cell_type": "code",
   "execution_count": null,
   "id": "99773fd5",
   "metadata": {},
   "outputs": [],
   "source": [
    "def avg_property_area(x):\n",
    "    x = numbers.findall(x)\n",
    "    if len(x) == 1:\n",
    "        return np.float(x[0])\n",
    "    elif len(x) == 2:\n",
    "        return (np.float(x[0])+np.float(x[1]))/2\n",
    "    else:\n",
    "        return -99\n",
    "    \n",
    "numbers = re.compile(r\"[-+]?(\\d*\\.\\d+|\\d+)\")     \n",
    "df['Property Area in Sq. Ft. Cleaned'] = df['Property Area in Sq. Ft.'].apply(lambda x: avg_property_area(str(x)))"
   ]
  },
  {
   "cell_type": "code",
   "execution_count": null,
   "id": "921a33f7",
   "metadata": {},
   "outputs": [],
   "source": [
    "df[['Property Area in Sq. Ft.','Property Area in Sq. Ft. Cleaned']].sample(5)"
   ]
  },
  {
   "cell_type": "markdown",
   "id": "e3df5b31",
   "metadata": {},
   "source": [
    "##### Price:"
   ]
  },
  {
   "cell_type": "code",
   "execution_count": null,
   "id": "55ef4178",
   "metadata": {},
   "outputs": [],
   "source": [
    "numbers = re.compile(r\"[-+]?(\\d*\\.\\d+|\\d+)\") \n",
    "df['Price in lakhs Cleaned'] = (df['Price in lakhs'].apply(lambda x: np.float(numbers.findall(str(x))[0]) \n",
    "                                                           if len(numbers.findall(str(x)))>0 else np.nan ))"
   ]
  },
  {
   "cell_type": "code",
   "execution_count": null,
   "id": "a0ab47fa",
   "metadata": {},
   "outputs": [],
   "source": [
    "df[['Price in lakhs','Price in lakhs Cleaned']].sample(5)"
   ]
  },
  {
   "cell_type": "code",
   "execution_count": null,
   "id": "b39dcae6",
   "metadata": {},
   "outputs": [],
   "source": [
    "df.head()"
   ]
  },
  {
   "cell_type": "code",
   "execution_count": null,
   "id": "5d3336ea",
   "metadata": {},
   "outputs": [],
   "source": [
    "df.info()"
   ]
  },
  {
   "cell_type": "markdown",
   "id": "48c6241c",
   "metadata": {},
   "source": [
    "## Univariate Analysis:"
   ]
  },
  {
   "cell_type": "markdown",
   "id": "286b1ef8",
   "metadata": {},
   "source": [
    "([Contents:](#Contents:))"
   ]
  },
  {
   "cell_type": "code",
   "execution_count": null,
   "id": "76ecef7f",
   "metadata": {},
   "outputs": [],
   "source": [
    "features = df.columns.tolist()[18:]\n",
    "print(\"Total Number of Features: \"+str(len(features)))"
   ]
  },
  {
   "cell_type": "code",
   "execution_count": null,
   "id": "f8722f0d",
   "metadata": {},
   "outputs": [],
   "source": [
    "df1 = df[features]\n",
    "print(df1.shape)\n",
    "df1.head(3)"
   ]
  },
  {
   "cell_type": "markdown",
   "id": "21507589",
   "metadata": {},
   "source": [
    "#### Distribution of Location and Sub-Area:"
   ]
  },
  {
   "cell_type": "markdown",
   "id": "038834f2",
   "metadata": {},
   "source": [
    "([Contents:](#Contents:))"
   ]
  },
  {
   "cell_type": "code",
   "execution_count": null,
   "id": "8b4d1dff",
   "metadata": {},
   "outputs": [],
   "source": [
    "# Location\n",
    "print(f\"Unique Number of Cities in the Data: {df1.City.nunique()}\")\n",
    "\n",
    "display(df1.groupby('City')['Company Name Cleaned'].count().reset_index())\n",
    "\n",
    "plt.figure(figsize=(7,5))\n",
    "sns.countplot(df1['City'])\n",
    "plt.title(\"Distribution of data by City\",size=15)\n",
    "plt.show()"
   ]
  },
  {
   "cell_type": "code",
   "execution_count": null,
   "id": "670c133a",
   "metadata": {},
   "outputs": [],
   "source": [
    "# Sub-Area\n",
    "print(f\"Unique Number of Sub-Area in the Data: {df1['Sub-Area Cleaned'].nunique()}\")\n",
    "\n",
    "temp = df1.groupby('Sub-Area Cleaned')['City'].count().reset_index().sort_values(by='City',ascending=False)[:10]\n",
    "display(temp)\n",
    "\n",
    "plt.figure(figsize=(10,5))\n",
    "sns.barplot(x=temp['Sub-Area Cleaned'],y=temp['City'])\n",
    "plt.title(\"Distribution of data by Sub-Area\",size=15)\n",
    "plt.xticks(rotation=45)\n",
    "plt.show()"
   ]
  },
  {
   "cell_type": "markdown",
   "id": "02d15df4",
   "metadata": {},
   "source": [
    "#### Distribution of Company and Township:"
   ]
  },
  {
   "cell_type": "markdown",
   "id": "277730a8",
   "metadata": {},
   "source": [
    "([Contents:](#Contents:))"
   ]
  },
  {
   "cell_type": "code",
   "execution_count": null,
   "id": "fd8f46fb",
   "metadata": {},
   "outputs": [],
   "source": [
    "# Company\n",
    "print(f\"Unique Number of Company in the Data: {df1['Company Name Cleaned'].nunique()}\")\n",
    "\n",
    "display(df1.groupby('Company Name Cleaned')['City'].count().sort_values(ascending=False).reset_index()[:10])\n",
    "\n",
    "plt.figure(figsize=(20,5))\n",
    "sns.countplot(df1['Company Name Cleaned'],\n",
    "              order=df1.groupby('Company Name Cleaned')['City'].count().sort_values(ascending=False).index[:10])\n",
    "plt.title(\"Distribution of data by Company\",size=15)\n",
    "plt.xticks(rotation=45)\n",
    "plt.show()"
   ]
  },
  {
   "cell_type": "code",
   "execution_count": null,
   "id": "2b743c4e",
   "metadata": {},
   "outputs": [],
   "source": [
    "# Township\n",
    "print(f\"Unique Number of Township/Society in the Data: {df1['TownShip Name/ Society Name Cleaned'].nunique()}\")\n",
    "\n",
    "display(df1.groupby('TownShip Name/ Society Name Cleaned')['City'].count().sort_values(ascending=False)\n",
    "          .reset_index()[:10])\n",
    "\n",
    "plt.figure(figsize=(20,5))\n",
    "sns.countplot(df1['TownShip Name/ Society Name Cleaned'],\n",
    "              order=df1.groupby('TownShip Name/ Society Name Cleaned')['City'].count()\n",
    "                      .sort_values(ascending=False).index[:10])\n",
    "plt.title(\"Distribution of data by Township/Society\",size=15)\n",
    "plt.xticks(rotation=45)\n",
    "plt.show()"
   ]
  },
  {
   "cell_type": "markdown",
   "id": "bba4f680",
   "metadata": {},
   "source": [
    "#### Distribution of Property Area and Price:"
   ]
  },
  {
   "cell_type": "markdown",
   "id": "629e0a00",
   "metadata": {},
   "source": [
    "([Contents:](#Contents:))"
   ]
  },
  {
   "cell_type": "code",
   "execution_count": null,
   "id": "32977f32",
   "metadata": {},
   "outputs": [],
   "source": [
    "display(df1[['Property Area in Sq. Ft. Cleaned']].describe())\n"
   ]
  },
  {
   "cell_type": "code",
   "execution_count": null,
   "id": "3957370f",
   "metadata": {},
   "outputs": [],
   "source": [
    "print(\"Summary Statistics of Property Area:\")\n",
    "display(df1[['Property Area in Sq. Ft. Cleaned']].describe())\n",
    "\n",
    "plt.figure(figsize=(8,5))\n",
    "plt.hist(df1['Property Area in Sq. Ft. Cleaned'],bins=20)\n",
    "plt.title(\"Distribution of Property Area\",size=15)\n",
    "plt.xticks(rotation=45)\n",
    "plt.show()"
   ]
  },
  {
   "cell_type": "code",
   "execution_count": null,
   "id": "4b351893",
   "metadata": {},
   "outputs": [],
   "source": [
    "print(\"Summary Statistics of Price:\")\n",
    "display(df1[['Price in lakhs Cleaned']].describe())\n",
    "\n",
    "plt.figure(figsize=(8,5))\n",
    "plt.hist(df1['Price in lakhs Cleaned'],bins=20)\n",
    "plt.title(\"Distribution of Price\",size=15)\n",
    "plt.xticks(rotation=45)\n",
    "plt.show()"
   ]
  },
  {
   "cell_type": "code",
   "execution_count": null,
   "id": "68ccff45",
   "metadata": {},
   "outputs": [],
   "source": [
    "df1.head()"
   ]
  },
  {
   "cell_type": "markdown",
   "id": "d7eac4ff",
   "metadata": {},
   "source": [
    "* How Property area correlates with the price?\n",
    "\n",
    "* How each amenities correlates with the price?\n",
    "\n",
    "* Create sum of all amenities and check how many Townships have all of it? And how the value of those properite vaires wrt others?"
   ]
  },
  {
   "cell_type": "markdown",
   "id": "80621cca",
   "metadata": {},
   "source": [
    "## Multivariate Analysis:"
   ]
  },
  {
   "cell_type": "markdown",
   "id": "7c45c178",
   "metadata": {},
   "source": [
    "([Contents:](#Contents:))"
   ]
  },
  {
   "cell_type": "markdown",
   "id": "05d54569",
   "metadata": {},
   "source": [
    "Multivariate analysis helps us to understand how two or more columns are related to each other and its relationship with the target variable.\n",
    "\n",
    "Based on the initial understanding of the different columns in the data (univariate analysis), we can create some hypothesis (if any) or try to ask more complex questions such as:\n",
    "* How Property area correlates with the price?\n",
    "* How each amenities correlates with the price?\n",
    "* What are the 3 main amenities that the top 10% priced properties have?\n",
    "\n",
    "This is not the exhaustive list but good to start with."
   ]
  },
  {
   "cell_type": "markdown",
   "id": "643aad95",
   "metadata": {},
   "source": [
    "#### How Property area correlates with the price?"
   ]
  },
  {
   "cell_type": "markdown",
   "id": "d51d54a9",
   "metadata": {},
   "source": [
    "([Contents:](#Contents:))"
   ]
  },
  {
   "cell_type": "code",
   "execution_count": null,
   "id": "d6574271",
   "metadata": {},
   "outputs": [],
   "source": [
    "# Property Area vs Price\n",
    "temp = df1[['Property Area in Sq. Ft. Cleaned','Price in lakhs Cleaned']]\n",
    "\n",
    "display(temp.describe())\n",
    "\n",
    "corr_matrix = temp.corr()\n",
    "print(corr_matrix['Price in lakhs Cleaned'])\n",
    "\n",
    "plt.figure(figsize=(8,5))\n",
    "sns.scatterplot(temp['Property Area in Sq. Ft. Cleaned'],temp['Price in lakhs Cleaned'])\n",
    "plt.title(\"Property Area vs Price\",size=15)\n",
    "plt.xticks(rotation=45)\n",
    "plt.show()"
   ]
  },
  {
   "cell_type": "markdown",
   "id": "acc5ca56",
   "metadata": {},
   "source": [
    "#### How each amenities correlates with the price?"
   ]
  },
  {
   "cell_type": "markdown",
   "id": "229bd94c",
   "metadata": {},
   "source": [
    "([Contents:](#Contents:))"
   ]
  },
  {
   "cell_type": "code",
   "execution_count": null,
   "id": "d8a47ff8",
   "metadata": {},
   "outputs": [],
   "source": [
    "df1.head(2)"
   ]
  },
  {
   "cell_type": "code",
   "execution_count": null,
   "id": "7d40ccd1",
   "metadata": {},
   "outputs": [],
   "source": [
    "feats_to_plot = df1.columns.tolist()[8:15]\n",
    "print(len(feats_to_plot))"
   ]
  },
  {
   "cell_type": "code",
   "execution_count": null,
   "id": "44b2149d",
   "metadata": {},
   "outputs": [],
   "source": [
    "fig,ax = plt.subplots(nrows=3,ncols=3,sharey=True,figsize=(20,15))\n",
    "plt.suptitle(\"Distribution of Price by Ametnities\",size=15)\n",
    "for i,col in enumerate(feats_to_plot):\n",
    "    sns.violinplot(x = df1[col],y=df1['Price in lakhs Cleaned'],ax=ax[i//3,i%3])"
   ]
  },
  {
   "cell_type": "markdown",
   "id": "3db8e4ba",
   "metadata": {},
   "source": [
    "#### What are the 3 main amenities that the top 10% priced properties have?"
   ]
  },
  {
   "cell_type": "markdown",
   "id": "6f36fe92",
   "metadata": {},
   "source": [
    "([Contents:](#Contents:))"
   ]
  },
  {
   "cell_type": "code",
   "execution_count": null,
   "id": "6bfbe4ec",
   "metadata": {},
   "outputs": [],
   "source": [
    "# Filter for top 10% priced properties \n",
    "df1[['Price in lakhs Cleaned']].describe()"
   ]
  },
  {
   "cell_type": "code",
   "execution_count": null,
   "id": "92a37396",
   "metadata": {},
   "outputs": [],
   "source": [
    "# selecting threshold as 80 Lakhs\n",
    "amenities_cols = df1.columns.tolist()[8:15]\n",
    "amenities_cols"
   ]
  },
  {
   "cell_type": "code",
   "execution_count": null,
   "id": "7757b367",
   "metadata": {},
   "outputs": [],
   "source": [
    "df1[df1['Price in lakhs Cleaned']>=80][amenities_cols].sum().reset_index()"
   ]
  },
  {
   "cell_type": "code",
   "execution_count": null,
   "id": "4378036f",
   "metadata": {},
   "outputs": [],
   "source": [
    "temp = df1[df1['Price in lakhs Cleaned']>=80][amenities_cols].sum().reset_index()\n",
    "temp.rename(columns={'index':'Amenities',0:'Popularity'},inplace=True)\n",
    "temp = temp.sort_values(by='Popularity',ascending=False)\n",
    "display(temp)\n",
    "\n",
    "plt.figure(figsize=(15,5))\n",
    "sns.barplot(x=temp['Amenities'],y=temp['Popularity'])\n",
    "plt.title(\"Top Amenities in the Premium properties\",size=15)\n",
    "plt.xticks(rotation=60)\n",
    "plt.show()"
   ]
  },
  {
   "cell_type": "markdown",
   "id": "8ce5f908",
   "metadata": {},
   "source": [
    "## Treating Nulls and saving the data:"
   ]
  },
  {
   "cell_type": "markdown",
   "id": "6e51a7fd",
   "metadata": {},
   "source": [
    "([Contents:](#Contents:))"
   ]
  },
  {
   "cell_type": "code",
   "execution_count": null,
   "id": "15726537",
   "metadata": {},
   "outputs": [],
   "source": [
    "df1.head()"
   ]
  },
  {
   "cell_type": "code",
   "execution_count": null,
   "id": "c39fd611",
   "metadata": {},
   "outputs": [],
   "source": [
    "df1.isna().sum()"
   ]
  },
  {
   "cell_type": "code",
   "execution_count": null,
   "id": "f6c5864d",
   "metadata": {},
   "outputs": [],
   "source": [
    "df_final = df1.dropna()\n",
    "df_final.isna().sum()"
   ]
  },
  {
   "cell_type": "code",
   "execution_count": null,
   "id": "fc213480",
   "metadata": {},
   "outputs": [],
   "source": [
    "# Saving the final dataframe with selected features as a csv file\n",
    "df_final.to_csv('data/real_estate_selected.csv',index=False)"
   ]
  },
  {
   "cell_type": "code",
   "execution_count": null,
   "id": "ed658c82",
   "metadata": {},
   "outputs": [],
   "source": []
  }
 ],
 "metadata": {
  "kernelspec": {
   "display_name": "Python 3 (ipykernel)",
   "language": "python",
   "name": "python3"
  },
  "language_info": {
   "codemirror_mode": {
    "name": "ipython",
    "version": 3
   },
   "file_extension": ".py",
   "mimetype": "text/x-python",
   "name": "python",
   "nbconvert_exporter": "python",
   "pygments_lexer": "ipython3",
   "version": "3.9.13"
  },
  "vscode": {
   "interpreter": {
    "hash": "31f2aee4e71d21fbe5cf8b01ff0e069b9275f58929596ceb00d14d90e3e16cd6"
   }
  }
 },
 "nbformat": 4,
 "nbformat_minor": 5
}
